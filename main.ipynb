{
 "cells": [
  {
   "cell_type": "code",
   "execution_count": 3,
   "id": "7421fed2",
   "metadata": {},
   "outputs": [
    {
     "name": "stdout",
     "output_type": "stream",
     "text": [
      "Requirement already satisfied: pyautogui in /home/athirson/.local/lib/python3.8/site-packages (0.9.53)\n",
      "Requirement already satisfied: mouseinfo in /home/athirson/.local/lib/python3.8/site-packages (from pyautogui) (0.1.3)\n",
      "Requirement already satisfied: pymsgbox in /home/athirson/.local/lib/python3.8/site-packages (from pyautogui) (1.0.9)\n",
      "Requirement already satisfied: python3-Xlib; platform_system == \"Linux\" and python_version >= \"3.0\" in /home/athirson/.local/lib/python3.8/site-packages (from pyautogui) (0.15)\n",
      "Requirement already satisfied: pygetwindow>=0.0.5 in /home/athirson/.local/lib/python3.8/site-packages (from pyautogui) (0.0.9)\n",
      "Requirement already satisfied: PyTweening>=1.0.1 in /home/athirson/.local/lib/python3.8/site-packages (from pyautogui) (1.0.4)\n",
      "Requirement already satisfied: pyscreeze>=0.1.21 in /home/athirson/.local/lib/python3.8/site-packages (from pyautogui) (0.1.28)\n",
      "Requirement already satisfied: pyperclip in /home/athirson/.local/lib/python3.8/site-packages (from mouseinfo->pyautogui) (1.8.2)\n",
      "Requirement already satisfied: pyrect in /home/athirson/.local/lib/python3.8/site-packages (from pygetwindow>=0.0.5->pyautogui) (0.2.0)\n",
      "Requirement already satisfied: Pillow>=6.2.1; python_version == \"3.8\" in /usr/lib/python3/dist-packages (from pyscreeze>=0.1.21->pyautogui) (7.0.0)\n"
     ]
    }
   ],
   "source": [
    "!python3 -m pip install pyautogui"
   ]
  },
  {
   "cell_type": "code",
   "execution_count": 2,
   "id": "ff16fb15",
   "metadata": {},
   "outputs": [
    {
     "ename": "ModuleNotFoundError",
     "evalue": "No module named 'pyautogui'",
     "output_type": "error",
     "traceback": [
      "\u001b[0;31m---------------------------------------------------------------------------\u001b[0m",
      "\u001b[0;31mModuleNotFoundError\u001b[0m                       Traceback (most recent call last)",
      "\u001b[0;32m/tmp/ipykernel_7114/4106521167.py\u001b[0m in \u001b[0;36m<module>\u001b[0;34m\u001b[0m\n\u001b[0;32m----> 1\u001b[0;31m \u001b[0;32mimport\u001b[0m \u001b[0mpyautogui\u001b[0m \u001b[0;32mas\u001b[0m \u001b[0mpg\u001b[0m\u001b[0;34m\u001b[0m\u001b[0;34m\u001b[0m\u001b[0m\n\u001b[0m\u001b[1;32m      2\u001b[0m \u001b[0;32mimport\u001b[0m \u001b[0mtime\u001b[0m\u001b[0;34m\u001b[0m\u001b[0;34m\u001b[0m\u001b[0m\n",
      "\u001b[0;31mModuleNotFoundError\u001b[0m: No module named 'pyautogui'"
     ]
    }
   ],
   "source": [
    "import pyautogui as pg\n",
    "import time"
   ]
  },
  {
   "cell_type": "code",
   "execution_count": null,
   "id": "d1e61922",
   "metadata": {},
   "outputs": [],
   "source": [
    "time.sleep(10)\n",
    "\n",
    "for i in range(0, 10):\n",
    "    pg.hotkey('alt', '2')\n",
    "    pg.write('Jamali)\n",
    "    pg.press('Enter')"
   ]
  }
 ],
 "metadata": {
  "kernelspec": {
   "display_name": "Python 3 (ipykernel)",
   "language": "python",
   "name": "python3"
  },
  "language_info": {
   "codemirror_mode": {
    "name": "ipython",
    "version": 3
   },
   "file_extension": ".py",
   "mimetype": "text/x-python",
   "name": "python",
   "nbconvert_exporter": "python",
   "pygments_lexer": "ipython3",
   "version": "3.9.7"
  }
 },
 "nbformat": 4,
 "nbformat_minor": 5
}
